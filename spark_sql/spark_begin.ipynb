{
 "cells": [
  {
   "cell_type": "code",
   "execution_count": 1,
   "metadata": {},
   "outputs": [
    {
     "name": "stderr",
     "output_type": "stream",
     "text": [
      "UsageError: Line magic function `%md` not found.\n"
     ]
    }
   ],
   "source": [
    "%md\n",
    "### ⚡Treinamento dos principais comandos de SQL e SPARK"
   ]
  },
  {
   "cell_type": "code",
   "execution_count": null,
   "metadata": {},
   "outputs": [],
   "source": [
    "from pyspark.sql.functions import *\n",
    "from pyspark.sql.types import *"
   ]
  },
  {
   "cell_type": "code",
   "execution_count": null,
   "metadata": {},
   "outputs": [],
   "source": [
    "%md\n",
    "#### Create Table"
   ]
  },
  {
   "cell_type": "code",
   "execution_count": null,
   "metadata": {},
   "outputs": [],
   "source": [
    "%sql\n",
    "--criando tabela pessoa\n",
    "CREATE OR REPLACE TABLE spark_catalog.bronze.tr_pessoa(\n",
    "  id INT COMMENT 'Chave Primária',\n",
    "  primeiro_nome VARCHAR(255) COMMENT 'Primeiro nome da Pessoa',\n",
    "  ultimo_nome VARCHAR(255)  COMMENT 'Ultimo nome da Pessoa',\n",
    "  data_nascimento DATE COMMENT 'Data de Nascimento'\n",
    ") \n",
    "LOCATION 'dbfs:/FileStore/landing_zone/tr_pessoa'\n",
    "TBLPROPERTIES ('comment' = 'Esta tabela contém dados de pessoas');"
   ]
  },
  {
   "cell_type": "code",
   "execution_count": null,
   "metadata": {},
   "outputs": [],
   "source": [
    "%sql\n",
    "describe spark_catalog.bronze.tr_pessoa"
   ]
  },
  {
   "cell_type": "code",
   "execution_count": null,
   "metadata": {},
   "outputs": [],
   "source": [
    "%sql\n",
    "--criando tabela rendimento anual pessoa\n",
    "CREATE OR REPLACE TABLE spark_catalog.bronze.tr_pessoa_rendimento(\n",
    "  id INT COMMENT 'Chave Primária',\n",
    "  id_pessoa int COMMENT 'Id pessoa',\n",
    "  rendimento_anual double COMMENT 'rendimento anual',\n",
    "  ano_rendimento int COMMENT 'ano rendimento'\n",
    ") \n",
    "LOCATION 'dbfs:/FileStore/landing_zone/tr_pessoa_rendimento'\n",
    "TBLPROPERTIES ('comment' = 'Esta tabela contém dados de rendimento de pessoas');"
   ]
  },
  {
   "cell_type": "code",
   "execution_count": null,
   "metadata": {},
   "outputs": [],
   "source": [
    "%md\n",
    "#### Visualizando o schema da Table"
   ]
  },
  {
   "cell_type": "code",
   "execution_count": null,
   "metadata": {},
   "outputs": [],
   "source": [
    "%sql\n",
    "DESCRIBE spark_catalog.bronze.tr_pessoa"
   ]
  },
  {
   "cell_type": "code",
   "execution_count": null,
   "metadata": {},
   "outputs": [],
   "source": [
    "%sql\n",
    "DESCRIBE spark_catalog.bronze.tr_pessoa_rendimento"
   ]
  },
  {
   "cell_type": "code",
   "execution_count": null,
   "metadata": {},
   "outputs": [],
   "source": [
    "%sql\n",
    "-- Inserindo dados na tabela de pessoas\n",
    "INSERT INTO spark_catalog.bronze.tr_pessoa\n",
    " (id, primeiro_nome, ultimo_nome, data_nascimento) \n",
    "VALUES\n",
    "(1, 'Anderson', 'Leal', '2003-01-15'),\n",
    "(2, 'Felix', 'Souza', '1998-01-20'), \n",
    "(3, 'Junior', 'Amorim','1994-02-11'),\n",
    "(4, 'Barbara', 'Souza','2001-03-22'),\n",
    "(5, 'Jordam', 'Avilar','2001-03-22')"
   ]
  },
  {
   "cell_type": "code",
   "execution_count": null,
   "metadata": {},
   "outputs": [],
   "source": [
    "%sql\n",
    "-- Inserindo dados na tabela de rendimento de pessoas\n",
    "INSERT INTO spark_catalog.bronze.tr_pessoa_rendimento\n",
    " (id, id_pessoa, rendimento_anual, ano_rendimento) \n",
    "VALUES\n",
    "(1, 1, 710235, 2022),\n",
    "(2, 1, 140450, 2023), \n",
    "(3, 1, 100000, 2024),\n",
    "(4, 2, 214700, 2022),\n",
    "(5, 2, 510235, 2023),\n",
    "(6, 2, 340450, 2024), \n",
    "(7, 3, 180000, 2022),\n",
    "(8, 3, 204000, 2023),\n",
    "(9, 3, 717235, 2024),\n",
    "(10, 4, 140490, 2022),\n",
    "(12, 4, 214000, 2024)"
   ]
  },
  {
   "cell_type": "code",
   "execution_count": null,
   "metadata": {},
   "outputs": [],
   "source": [
    "%md\n",
    "#### Lendo : Spark or SQL"
   ]
  },
  {
   "cell_type": "code",
   "execution_count": null,
   "metadata": {},
   "outputs": [],
   "source": [
    "%sql\n",
    "--Ler passando o Location\n",
    "SELECT *\n",
    "FROM delta.`dbfs:/FileStore/landing_zone/tr_pessoa/`"
   ]
  },
  {
   "cell_type": "code",
   "execution_count": null,
   "metadata": {},
   "outputs": [],
   "source": [
    "%sql\n",
    "--Ler usando a tabela\n",
    "SELECT *\n",
    "FROM bronze.tr_pessoa"
   ]
  },
  {
   "cell_type": "code",
   "execution_count": null,
   "metadata": {},
   "outputs": [],
   "source": [
    "%python\n",
    "df = spark.read.format(\"delta\").load(\"dbfs:/FileStore/landing_zone/tr_pessoa\")\n",
    "df.display()"
   ]
  },
  {
   "cell_type": "code",
   "execution_count": null,
   "metadata": {},
   "outputs": [],
   "source": [
    "%python\n",
    "spark.table('spark_catalog.bronze.tr_pessoa_rendimento').display()"
   ]
  },
  {
   "cell_type": "code",
   "execution_count": null,
   "metadata": {},
   "outputs": [],
   "source": [
    "%python\n",
    "maça = spark.sql('select * from spark_catalog.bronze.tr_pessoa_rendimento')\n",
    "df.display()"
   ]
  },
  {
   "cell_type": "code",
   "execution_count": null,
   "metadata": {},
   "outputs": [],
   "source": [
    "%md\n",
    "#### Spark or SQL"
   ]
  },
  {
   "cell_type": "code",
   "execution_count": null,
   "metadata": {},
   "outputs": [],
   "source": [
    "%md\n",
    "##### Criando um dataframe"
   ]
  },
  {
   "cell_type": "code",
   "execution_count": null,
   "metadata": {},
   "outputs": [],
   "source": [
    "df_pessoa = spark.table('spark_catalog.bronze.tr_pessoa')\n",
    "df_pessoa_rendimento = spark.sql('select * from spark_catalog.bronze.tr_pessoa_rendimento')"
   ]
  },
  {
   "cell_type": "code",
   "execution_count": null,
   "metadata": {},
   "outputs": [],
   "source": [
    "df_pessoa.display()"
   ]
  },
  {
   "cell_type": "code",
   "execution_count": null,
   "metadata": {},
   "outputs": [],
   "source": [
    "df_pessoa_rendimento.display()"
   ]
  },
  {
   "cell_type": "code",
   "execution_count": null,
   "metadata": {},
   "outputs": [],
   "source": [
    "df_pessoa.select('primeiro_nome','ultimo_nome').display()"
   ]
  },
  {
   "cell_type": "code",
   "execution_count": null,
   "metadata": {},
   "outputs": [],
   "source": [
    "df_pessoa.display()"
   ]
  },
  {
   "cell_type": "code",
   "execution_count": null,
   "metadata": {},
   "outputs": [],
   "source": [
    "df_pessoa2 = df_pessoa.select('primeiro_nome','ultimo_nome','data_nascimento')\n",
    "df_pessoa2.display()"
   ]
  },
  {
   "cell_type": "code",
   "execution_count": null,
   "metadata": {},
   "outputs": [],
   "source": [
    "df_pessoa.display()"
   ]
  },
  {
   "cell_type": "code",
   "execution_count": null,
   "metadata": {},
   "outputs": [],
   "source": [
    "df_pessoa2.display()"
   ]
  },
  {
   "cell_type": "code",
   "execution_count": null,
   "metadata": {},
   "outputs": [],
   "source": [
    "%sql \n",
    "select primeiro_nome from bronze.tr_pessoa"
   ]
  },
  {
   "cell_type": "code",
   "execution_count": null,
   "metadata": {},
   "outputs": [],
   "source": [
    "df_pessoa.filter(col('ultimo_nome') == 'Souza').show()"
   ]
  },
  {
   "cell_type": "code",
   "execution_count": null,
   "metadata": {},
   "outputs": [],
   "source": [
    "df_pessoa.filter((col('ultimo_nome') == 'Souza') & (col('primeiro_nome') == 'Barbara')).show()"
   ]
  },
  {
   "cell_type": "code",
   "execution_count": null,
   "metadata": {},
   "outputs": [],
   "source": [
    "df_pessoa.filter(\n",
    "    (col('ultimo_nome') == 'Souza') & \n",
    "    (col('primeiro_nome') == 'Barbara')\n",
    "    ).show()"
   ]
  },
  {
   "cell_type": "code",
   "execution_count": null,
   "metadata": {},
   "outputs": [],
   "source": [
    "%sql\n",
    "select * \n",
    "from spark_catalog.bronze.tr_pessoa\n",
    "where ultimo_nome = 'Souza' -- and primeiro_nome = 'Barbara'"
   ]
  },
  {
   "cell_type": "code",
   "execution_count": null,
   "metadata": {},
   "outputs": [],
   "source": [
    "%python\n",
    "spark.sql('''\n",
    "          SELECT * \n",
    "          FROM spark_catalog.bronze.tr_pessoa\n",
    "          WHERE ultimo_nome = \"Souza\" AND primeiro_nome = \"Barbara\"\n",
    "           ''').display()"
   ]
  },
  {
   "cell_type": "code",
   "execution_count": null,
   "metadata": {},
   "outputs": [],
   "source": [
    "df_pessoa = df_pessoa.withColumnRenamed('primeiro_nome', 'nome_principal').display()"
   ]
  },
  {
   "cell_type": "code",
   "execution_count": null,
   "metadata": {},
   "outputs": [],
   "source": [
    "df_pessoa.display()"
   ]
  },
  {
   "cell_type": "code",
   "execution_count": null,
   "metadata": {},
   "outputs": [],
   "source": [
    "%sql\n",
    "select \n",
    "  id, \n",
    "  primeiro_nome as nome_principal,\n",
    "  ultimo_nome,\n",
    "  data_nascimento\n",
    "from spark_catalog.bronze.tr_pessoa"
   ]
  },
  {
   "cell_type": "code",
   "execution_count": null,
   "metadata": {},
   "outputs": [],
   "source": [
    "df_pessoa\\\n",
    "    .withColumn('nome', regexp_replace(col('primeiro_nome'),'a','A')).display()"
   ]
  },
  {
   "cell_type": "code",
   "execution_count": null,
   "metadata": {},
   "outputs": [],
   "source": [
    "df_pessoa.withColumn('primeiro_nome', regexp_replace(col('primeiro_nome'),'A','POPOPOPO')).display()"
   ]
  }
 ],
 "metadata": {
  "kernelspec": {
   "display_name": "Python 3",
   "language": "python",
   "name": "python3"
  },
  "language_info": {
   "codemirror_mode": {
    "name": "ipython",
    "version": 3
   },
   "file_extension": ".py",
   "mimetype": "text/x-python",
   "name": "python",
   "nbconvert_exporter": "python",
   "pygments_lexer": "ipython3",
   "version": "3.11.9"
  },
  "orig_nbformat": 4
 },
 "nbformat": 4,
 "nbformat_minor": 2
}
