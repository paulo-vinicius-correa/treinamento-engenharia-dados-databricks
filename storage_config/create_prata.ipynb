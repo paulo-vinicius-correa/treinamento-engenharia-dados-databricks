{
 "cells": [
  {
   "cell_type": "code",
   "execution_count": null,
   "metadata": {},
   "outputs": [],
   "source": [
    "%sql\n",
    "\n",
    "CREATE DATABASE IF NOT EXISTS spark_catalog.prata\n",
    "LOCATION 'dbfs/FileStore/prata/';"
   ]
  }
 ],
 "metadata": {
  "language_info": {
   "name": "python"
  },
  "orig_nbformat": 4
 },
 "nbformat": 4,
 "nbformat_minor": 2
}
